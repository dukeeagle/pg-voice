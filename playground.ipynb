{
 "cells": [
  {
   "cell_type": "code",
   "execution_count": 4,
   "metadata": {},
   "outputs": [
    {
     "data": {
      "text/plain": [
       "215"
      ]
     },
     "execution_count": 4,
     "metadata": {},
     "output_type": "execute_result"
    }
   ],
   "source": [
    "# read ~/Downloads/pg.csv\n",
    "import pandas as pd\n",
    "\n",
    "df = pd.read_csv('~/Downloads/pg.csv')\n",
    "len(set(df['essay_url']))"
   ]
  },
  {
   "cell_type": "code",
   "execution_count": 29,
   "metadata": {},
   "outputs": [],
   "source": [
    "import os\n",
    "import re\n",
    "from IPython.display import Markdown, display\n",
    "\n",
    "# Get a list of all files in the directory\n",
    "files = os.listdir('./graham-essays/essays')\n",
    "\n",
    "\n",
    "# Iterate over each file\n",
    "for idx, file_name in enumerate(files):\n",
    "    # Skip non .md files\n",
    "    if not file_name.endswith('.md'):\n",
    "        continue\n",
    "\n",
    "    # Load the text\n",
    "    with open(f'./graham-essays/essays/{file_name}', 'r') as file:\n",
    "        text = file.read()\n",
    "\n",
    "    # Extract notes\n",
    "    notes = re.findall(r'<a name=(.*?)>\\[(.*?)\\]</a> (.*?)\\n', text)\n",
    "\n",
    "    # Reformat title\n",
    "    title = re.search(r'# (.*?)\\n', text).group(1)\n",
    "    number, name = title.split(' ', 1)\n",
    "    text = text.replace(f'# {title}', f'Essay #{number}: {name}')\n",
    "\n",
    "    # Replace every occurrence of \"rev.\" with \"revised\"\n",
    "    text = text.replace('rev.', 'revised')\n",
    "\n",
    "    # Remove image links, typically at the beginning as banners\n",
    "    text = re.sub(r'\\[\\]\\(.*?\\)\\s*', '', text)\n",
    "\n",
    "    # Find all quoted paragraphs with many \">\" and reformat them with quadruple quotes\n",
    "    text = re.sub(r'( > .*\\n)+', lambda match: '\"\"\"\"' + match.group(0).replace(' > ', ' ').replace('\\n', ' ') + '\"\"\"\"\\n', text)\n",
    "\n",
    "    # Replace note references in the text with the parenthetical notes\n",
    "    for note in notes:\n",
    "        note_name, note_number, note_content = note\n",
    "        text = text.replace(f'[{note_number}](#{note_name})', f'(SIDENOTE: {note_content.strip()})')\n",
    "\n",
    "    # Remove the notes section\n",
    "    notes_start = text.find('**Notes**')\n",
    "    notes_end = text.find('**Thanks**')\n",
    "    text = text[:notes_start] + text[notes_end:]\n",
    "\n",
    "    # Remove translation links\n",
    "    text = re.sub(r'\\[.*?Translation.*?\\]\\(.*?\\)\\s*\\n', '', text, flags=re.IGNORECASE)\n",
    "\n",
    "    # Remove lines containing \"* * *\"\n",
    "    text = re.sub(r'\\* \\* \\*\\n', '', text)\n",
    "\n",
    "    # Save the updated text\n",
    "    cleaned_file_name = file_name.replace('.md', '_cleaned.md')\n",
    "    with open(f'./cleaned-essays/{cleaned_file_name}', 'w') as file:\n",
    "        file.write(text)\n",
    "\n",
    "    # pretty-print in jupyter notebook\n",
    "    # display(Markdown(text))\n",
    "    \n",
    "    if idx == 10:\n",
    "        break\n"
   ]
  },
  {
   "cell_type": "code",
   "execution_count": null,
   "metadata": {},
   "outputs": [],
   "source": []
  }
 ],
 "metadata": {
  "kernelspec": {
   "display_name": "base",
   "language": "python",
   "name": "python3"
  },
  "language_info": {
   "codemirror_mode": {
    "name": "ipython",
    "version": 3
   },
   "file_extension": ".py",
   "mimetype": "text/x-python",
   "name": "python",
   "nbconvert_exporter": "python",
   "pygments_lexer": "ipython3",
   "version": "3.11.5"
  }
 },
 "nbformat": 4,
 "nbformat_minor": 2
}
